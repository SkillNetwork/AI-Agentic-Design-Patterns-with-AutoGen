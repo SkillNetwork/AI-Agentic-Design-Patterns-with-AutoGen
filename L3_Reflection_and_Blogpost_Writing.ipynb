{
 "cells": [
  {
   "cell_type": "markdown",
   "id": "fc3024e2",
   "metadata": {},
   "source": [
    "# Lesson 3: Reflection and Blogpost Writing"
   ]
  },
  {
   "cell_type": "markdown",
   "id": "3b0cc42f",
   "metadata": {},
   "source": [
    "## Setup"
   ]
  },
  {
   "cell_type": "code",
   "execution_count": 1,
   "id": "96d39be0-eaf3-456d-8613-ba21099ed36b",
   "metadata": {
    "height": 30
   },
   "outputs": [],
   "source": [
    "llm_config = {\"model\": \"gpt-3.5-turbo\"}"
   ]
  },
  {
   "cell_type": "markdown",
   "id": "0969e6bb",
   "metadata": {},
   "source": [
    "## The task!"
   ]
  },
  {
   "cell_type": "code",
   "execution_count": 2,
   "id": "e8074032-3690-4de9-ad08-ea8323cb441b",
   "metadata": {
    "height": 115
   },
   "outputs": [],
   "source": [
    "task = '''\n",
    "        Write a concise but engaging blogpost about\n",
    "       DeepLearning.AI. Make sure the blogpost is\n",
    "       within 100 words.\n",
    "       '''\n"
   ]
  },
  {
   "cell_type": "markdown",
   "id": "1987f023",
   "metadata": {},
   "source": [
    "## Create a writer agent"
   ]
  },
  {
   "cell_type": "code",
   "execution_count": 3,
   "id": "fe0f0a47-a9fe-43a0-b7b1-79922e4c4ac8",
   "metadata": {
    "height": 183
   },
   "outputs": [],
   "source": [
    "import autogen\n",
    "\n",
    "writer = autogen.AssistantAgent(\n",
    "    name=\"Writer\",\n",
    "    system_message=\"You are a writer. You write engaging and concise \" \n",
    "        \"blogpost (with title) on given topics. You must polish your \"\n",
    "        \"writing based on the feedback you receive and give a refined \"\n",
    "        \"version. Only return your final work without additional comments.\",\n",
    "    llm_config=llm_config,\n",
    ")"
   ]
  },
  {
   "cell_type": "code",
   "execution_count": 4,
   "id": "7c7b4d8d-40f7-4a05-8958-25d20054de3a",
   "metadata": {
    "height": 30
   },
   "outputs": [],
   "source": [
    "reply = writer.generate_reply(messages=[{\"content\": task, \"role\": \"user\"}])"
   ]
  },
  {
   "cell_type": "code",
   "execution_count": 5,
   "id": "c501c97d-e338-4f36-a384-6ec45983cf77",
   "metadata": {
    "height": 30
   },
   "outputs": [
    {
     "name": "stdout",
     "output_type": "stream",
     "text": [
      "Title: \"Exploring the World of DeepLearning.AI\"\n",
      "\n",
      "Dive into the realm of DeepLearning.AI, a cutting-edge platform revolutionizing artificial intelligence. From beginner to advanced courses, DeepLearning.AI offers invaluable insights into neural networks, computer vision, and more. Sharpen your skills with hands-on projects and gain expertise from top industry experts like Andrew Ng. Whether you're a tech enthusiast or a seasoned professional, this platform provides a comprehensive learning experience tailored to your needs. Join the AI revolution today and unlock a world of possibilities with DeepLearning.AI.\n"
     ]
    }
   ],
   "source": [
    "print(reply)"
   ]
  },
  {
   "cell_type": "markdown",
   "id": "49658114",
   "metadata": {},
   "source": [
    "## Adding reflection \n",
    "\n",
    "Create a critic agent to reflect on the work of the writer agent."
   ]
  },
  {
   "cell_type": "code",
   "execution_count": 6,
   "id": "c7fcd1c7-51ec-4915-8e97-bac03565c4c7",
   "metadata": {
    "height": 149
   },
   "outputs": [],
   "source": [
    "critic = autogen.AssistantAgent(\n",
    "    name=\"Critic\",\n",
    "    is_termination_msg=lambda x: x.get(\"content\", \"\").find(\"TERMINATE\") >= 0,\n",
    "    llm_config=llm_config,\n",
    "    system_message=\"You are a critic. You review the work of \"\n",
    "                \"the writer and provide constructive \"\n",
    "                \"feedback to help improve the quality of the content.\",\n",
    ")"
   ]
  },
  {
   "cell_type": "code",
   "execution_count": 7,
   "id": "899d5fdb-6081-470b-b287-8cf8b8142d0d",
   "metadata": {
    "height": 115
   },
   "outputs": [
    {
     "name": "stdout",
     "output_type": "stream",
     "text": [
      "\u001b[33mCritic\u001b[0m (to Writer):\n",
      "\n",
      "\n",
      "        Write a concise but engaging blogpost about\n",
      "       DeepLearning.AI. Make sure the blogpost is\n",
      "       within 100 words.\n",
      "       \n",
      "\n",
      "--------------------------------------------------------------------------------\n",
      "\u001b[33mWriter\u001b[0m (to Critic):\n",
      "\n",
      "Title: \"Exploring the World of DeepLearning.AI\"\n",
      "\n",
      "Dive into the realm of DeepLearning.AI, a cutting-edge platform revolutionizing artificial intelligence. From beginner to advanced courses, DeepLearning.AI offers invaluable insights into neural networks, computer vision, and more. Sharpen your skills with hands-on projects and gain expertise from top industry experts like Andrew Ng. Whether you're a tech enthusiast or a seasoned professional, this platform provides a comprehensive learning experience tailored to your needs. Join the AI revolution today and unlock a world of possibilities with DeepLearning.AI.\n",
      "\n",
      "--------------------------------------------------------------------------------\n",
      "\u001b[33mCritic\u001b[0m (to Writer):\n",
      "\n",
      "Your blog post title, \"Exploring the World of DeepLearning.AI,\" effectively captures the essence of the platform and generates curiosity. The content is informative and engaging, providing a quick overview of what DeepLearning.AI offers. To enhance the blog post, consider adding specific examples of courses or projects available on the platform to give readers a more concrete understanding of the learning experience. Additionally, you may want to highlight any unique features or benefits that set DeepLearning.AI apart from other similar platforms to make your post even more compelling. Great job on creating a captivating introduction to DeepLearning.AI!\n",
      "\n",
      "--------------------------------------------------------------------------------\n",
      "\u001b[33mWriter\u001b[0m (to Critic):\n",
      "\n",
      "Title: \"Unleashing Potential: A Journey Through DeepLearning.AI\"\n",
      "\n",
      "Embark on a transformative experience with DeepLearning.AI, an innovative platform reshaping the field of artificial intelligence. Discover specialized courses in neural networks, computer vision, and more, curated by experts such as Andrew Ng. Through hands-on projects, tailored guidance, and unparalleled insights, DeepLearning.AI empowers both enthusiasts and professionals to master AI technologies. Experience a learning environment like never before, where your growth knows no bounds. Step into the future of AI education with DeepLearning.AI and unlock limitless possibilities today.\n",
      "\n",
      "--------------------------------------------------------------------------------\n"
     ]
    }
   ],
   "source": [
    "res = critic.initiate_chat(\n",
    "    recipient=writer,\n",
    "    message=task,\n",
    "    max_turns=2,\n",
    "    summary_method=\"last_msg\"\n",
    ")"
   ]
  },
  {
   "cell_type": "markdown",
   "id": "e7b76449",
   "metadata": {},
   "source": [
    "## Nested chat"
   ]
  },
  {
   "cell_type": "code",
   "execution_count": 8,
   "id": "401ecf92-63e9-40ff-aeed-1c404352e4ab",
   "metadata": {
    "height": 200
   },
   "outputs": [],
   "source": [
    "SEO_reviewer = autogen.AssistantAgent(\n",
    "    name=\"SEO Reviewer\",\n",
    "    llm_config=llm_config,\n",
    "    system_message=\"You are an SEO reviewer, known for \"\n",
    "        \"your ability to optimize content for search engines, \"\n",
    "        \"ensuring that it ranks well and attracts organic traffic. \" \n",
    "        \"Make sure your suggestion is concise (within 3 bullet points), \"\n",
    "        \"concrete and to the point. \"\n",
    "        \"Begin the review by stating your role.\",\n",
    ")\n"
   ]
  },
  {
   "cell_type": "code",
   "execution_count": 9,
   "id": "f85acb81-7ab9-4c84-b8bb-6fbae3dce848",
   "metadata": {
    "height": 183
   },
   "outputs": [],
   "source": [
    "legal_reviewer = autogen.AssistantAgent(\n",
    "    name=\"Legal Reviewer\",\n",
    "    llm_config=llm_config,\n",
    "    system_message=\"You are a legal reviewer, known for \"\n",
    "        \"your ability to ensure that content is legally compliant \"\n",
    "        \"and free from any potential legal issues. \"\n",
    "        \"Make sure your suggestion is concise (within 3 bullet points), \"\n",
    "        \"concrete and to the point. \"\n",
    "        \"Begin the review by stating your role.\",\n",
    ")"
   ]
  },
  {
   "cell_type": "code",
   "execution_count": 10,
   "id": "d46a177a-8088-4956-8d2b-3e916b8ca5e9",
   "metadata": {
    "height": 183
   },
   "outputs": [],
   "source": [
    "ethics_reviewer = autogen.AssistantAgent(\n",
    "    name=\"Ethics Reviewer\",\n",
    "    llm_config=llm_config,\n",
    "    system_message=\"You are an ethics reviewer, known for \"\n",
    "        \"your ability to ensure that content is ethically sound \"\n",
    "        \"and free from any potential ethical issues. \" \n",
    "        \"Make sure your suggestion is concise (within 3 bullet points), \"\n",
    "        \"concrete and to the point. \"\n",
    "        \"Begin the review by stating your role. \",\n",
    ")"
   ]
  },
  {
   "cell_type": "code",
   "execution_count": 11,
   "id": "a7b2ad6f-8ba6-436a-9459-14ffbe8a32d3",
   "metadata": {
    "height": 115
   },
   "outputs": [],
   "source": [
    "meta_reviewer = autogen.AssistantAgent(\n",
    "    name=\"Meta Reviewer\",\n",
    "    llm_config=llm_config,\n",
    "    system_message=\"You are a meta reviewer, you aggragate and review \"\n",
    "    \"the work of other reviewers and give a final suggestion on the content.\",\n",
    ")"
   ]
  },
  {
   "cell_type": "markdown",
   "id": "913beca1",
   "metadata": {},
   "source": [
    "## Orchestrate the nested chats to solve the task"
   ]
  },
  {
   "cell_type": "code",
   "execution_count": 12,
   "id": "a11a70c7-19ca-4e5a-ad3d-f2b481fb5915",
   "metadata": {
    "height": 540
   },
   "outputs": [],
   "source": [
    "def reflection_message(recipient, messages, sender, config):\n",
    "    return f'''Review the following content. \n",
    "            \\n\\n {recipient.chat_messages_for_summary(sender)[-1]['content']}'''\n",
    "\n",
    "review_chats = [\n",
    "    {\n",
    "     \"recipient\": SEO_reviewer, \n",
    "     \"message\": reflection_message, \n",
    "     \"summary_method\": \"reflection_with_llm\",\n",
    "     \"summary_args\": {\"summary_prompt\" : \n",
    "        \"Return review into as JSON object only:\"\n",
    "        \"{'Reviewer': '', 'Review': ''}. Here Reviewer should be your role\",},\n",
    "     \"max_turns\": 1},\n",
    "    {\n",
    "    \"recipient\": legal_reviewer, \"message\": reflection_message, \n",
    "     \"summary_method\": \"reflection_with_llm\",\n",
    "     \"summary_args\": {\"summary_prompt\" : \n",
    "        \"Return review into as JSON object only:\"\n",
    "        \"{'Reviewer': '', 'Review': ''}.\",},\n",
    "     \"max_turns\": 1},\n",
    "    {\"recipient\": ethics_reviewer, \"message\": reflection_message, \n",
    "     \"summary_method\": \"reflection_with_llm\",\n",
    "     \"summary_args\": {\"summary_prompt\" : \n",
    "        \"Return review into as JSON object only:\"\n",
    "        \"{'reviewer': '', 'review': ''}\",},\n",
    "     \"max_turns\": 1},\n",
    "     {\"recipient\": meta_reviewer, \n",
    "      \"message\": \"Aggregrate feedback from all reviewers and give final suggestions on the writing.\", \n",
    "     \"max_turns\": 1},\n",
    "]\n"
   ]
  },
  {
   "cell_type": "code",
   "execution_count": 13,
   "id": "b3a40b66-5061-460d-ad9d-c0dbcfbba2e9",
   "metadata": {
    "height": 81
   },
   "outputs": [],
   "source": [
    "critic.register_nested_chats(\n",
    "    review_chats,\n",
    "    trigger=writer,\n",
    ")"
   ]
  },
  {
   "cell_type": "markdown",
   "id": "43b8797d",
   "metadata": {},
   "source": [
    "**Note**: You might get a slightly different response than what's shown in the video. Feel free to try different task."
   ]
  },
  {
   "cell_type": "code",
   "execution_count": 14,
   "id": "3b8dcac3-1e72-43b7-9d5a-1be740f6efd5",
   "metadata": {
    "height": 115
   },
   "outputs": [
    {
     "name": "stdout",
     "output_type": "stream",
     "text": [
      "\u001b[33mCritic\u001b[0m (to Writer):\n",
      "\n",
      "\n",
      "        Write a concise but engaging blogpost about\n",
      "       DeepLearning.AI. Make sure the blogpost is\n",
      "       within 100 words.\n",
      "       \n",
      "\n",
      "--------------------------------------------------------------------------------\n",
      "\u001b[33mWriter\u001b[0m (to Critic):\n",
      "\n",
      "Title: \"Exploring the World of DeepLearning.AI\"\n",
      "\n",
      "Dive into the realm of DeepLearning.AI, a cutting-edge platform revolutionizing artificial intelligence. From beginner to advanced courses, DeepLearning.AI offers invaluable insights into neural networks, computer vision, and more. Sharpen your skills with hands-on projects and gain expertise from top industry experts like Andrew Ng. Whether you're a tech enthusiast or a seasoned professional, this platform provides a comprehensive learning experience tailored to your needs. Join the AI revolution today and unlock a world of possibilities with DeepLearning.AI.\n",
      "\n",
      "--------------------------------------------------------------------------------\n",
      "\u001b[34m\n",
      "********************************************************************************\u001b[0m\n",
      "\u001b[34mStarting a new chat....\u001b[0m\n",
      "\u001b[34m\n",
      "********************************************************************************\u001b[0m\n",
      "\u001b[33mCritic\u001b[0m (to SEO Reviewer):\n",
      "\n",
      "Review the following content. \n",
      "            \n",
      "\n",
      " Title: \"Exploring the World of DeepLearning.AI\"\n",
      "\n",
      "Dive into the realm of DeepLearning.AI, a cutting-edge platform revolutionizing artificial intelligence. From beginner to advanced courses, DeepLearning.AI offers invaluable insights into neural networks, computer vision, and more. Sharpen your skills with hands-on projects and gain expertise from top industry experts like Andrew Ng. Whether you're a tech enthusiast or a seasoned professional, this platform provides a comprehensive learning experience tailored to your needs. Join the AI revolution today and unlock a world of possibilities with DeepLearning.AI.\n",
      "\n",
      "--------------------------------------------------------------------------------\n",
      "\u001b[33mSEO Reviewer\u001b[0m (to Critic):\n",
      "\n",
      "As an SEO reviewer, here is my feedback on the content:\n",
      "\n",
      "- Include specific keywords related to DeepLearning.AI, such as \"deep learning courses,\" \"artificial intelligence training,\" and \"neural network tutorials,\" to enhance search visibility.\n",
      "- Incorporate internal links to relevant pages within the content, like course descriptions or testimonials, to improve site structure and enhance user experience.\n",
      "- Craft a meta title and description that accurately reflect the content and include primary keywords to boost click-through rates in search results.\n",
      "\n",
      "--------------------------------------------------------------------------------\n",
      "\u001b[34m\n",
      "********************************************************************************\u001b[0m\n",
      "\u001b[34mStarting a new chat....\u001b[0m\n",
      "\u001b[34m\n",
      "********************************************************************************\u001b[0m\n",
      "\u001b[33mCritic\u001b[0m (to Legal Reviewer):\n",
      "\n",
      "Review the following content. \n",
      "            \n",
      "\n",
      " Title: \"Exploring the World of DeepLearning.AI\"\n",
      "\n",
      "Dive into the realm of DeepLearning.AI, a cutting-edge platform revolutionizing artificial intelligence. From beginner to advanced courses, DeepLearning.AI offers invaluable insights into neural networks, computer vision, and more. Sharpen your skills with hands-on projects and gain expertise from top industry experts like Andrew Ng. Whether you're a tech enthusiast or a seasoned professional, this platform provides a comprehensive learning experience tailored to your needs. Join the AI revolution today and unlock a world of possibilities with DeepLearning.AI.\n",
      "Context: \n",
      "{'Reviewer': 'SEO Expert', 'Review': 'Include specific keywords related to DeepLearning.AI, such as \"deep learning courses,\" \"artificial intelligence training,\" and \"neural network tutorials,\" to enhance search visibility. Incorporate internal links to relevant pages within the content, like course descriptions or testimonials, to improve site structure and enhance user experience. Craft a meta title and description that accurately reflect the content and include primary keywords to boost click-through rates in search results.'}\n",
      "\n",
      "--------------------------------------------------------------------------------\n",
      "\u001b[33mLegal Reviewer\u001b[0m (to Critic):\n",
      "\n",
      "As a Legal Reviewer:\n",
      "\n",
      "- Ensure all claims about DeepLearning.AI being a cutting-edge platform revolutionizing artificial intelligence are substantiated with specific examples and data to avoid potential misleading advertising issues.\n",
      "- Verify that any references to \"top industry experts like Andrew Ng\" are accurate and up-to-date to prevent any false association claims.\n",
      "- Review the content to confirm it does not infringe on any intellectual property rights, such as trademarks or copyrights, related to the terms \"DeepLearning.AI,\" \"neural networks,\" or \"computer vision.\"\n",
      "\n",
      "--------------------------------------------------------------------------------\n",
      "\u001b[34m\n",
      "********************************************************************************\u001b[0m\n",
      "\u001b[34mStarting a new chat....\u001b[0m\n",
      "\u001b[34m\n",
      "********************************************************************************\u001b[0m\n",
      "\u001b[33mCritic\u001b[0m (to Ethics Reviewer):\n",
      "\n",
      "Review the following content. \n",
      "            \n",
      "\n",
      " Title: \"Exploring the World of DeepLearning.AI\"\n",
      "\n",
      "Dive into the realm of DeepLearning.AI, a cutting-edge platform revolutionizing artificial intelligence. From beginner to advanced courses, DeepLearning.AI offers invaluable insights into neural networks, computer vision, and more. Sharpen your skills with hands-on projects and gain expertise from top industry experts like Andrew Ng. Whether you're a tech enthusiast or a seasoned professional, this platform provides a comprehensive learning experience tailored to your needs. Join the AI revolution today and unlock a world of possibilities with DeepLearning.AI.\n",
      "Context: \n",
      "{'Reviewer': 'SEO Expert', 'Review': 'Include specific keywords related to DeepLearning.AI, such as \"deep learning courses,\" \"artificial intelligence training,\" and \"neural network tutorials,\" to enhance search visibility. Incorporate internal links to relevant pages within the content, like course descriptions or testimonials, to improve site structure and enhance user experience. Craft a meta title and description that accurately reflect the content and include primary keywords to boost click-through rates in search results.'}\n",
      "{'Reviewer': 'SEO Expert', 'Review': 'Include specific keywords related to DeepLearning.AI, such as \"deep learning courses,\" \"artificial intelligence training,\" and \"neural network tutorials,\" to enhance search visibility. Incorporate internal links to relevant pages within the content, like course descriptions or testimonials, to improve site structure and enhance user experience. Craft a meta title and description that accurately reflect the content and include primary keywords to boost click-through rates in search results.'}\n",
      "\n",
      "--------------------------------------------------------------------------------\n",
      "\u001b[33mEthics Reviewer\u001b[0m (to Critic):\n",
      "\n",
      "As an ethics reviewer, here are my suggestions for the content review:\n",
      "\n",
      "- Ensure transparency in the promotion of DeepLearning.AI by clearly disclosing any affiliations or sponsorships with the platform.\n",
      "- Avoid making exaggerated claims about the benefits of DeepLearning.AI to maintain ethical integrity.\n",
      "- Provide a balanced perspective by mentioning any limitations or potential challenges associated with using DeepLearning.AI.\n",
      "\n",
      "--------------------------------------------------------------------------------\n",
      "\u001b[34m\n",
      "********************************************************************************\u001b[0m\n",
      "\u001b[34mStarting a new chat....\u001b[0m\n",
      "\u001b[34m\n",
      "********************************************************************************\u001b[0m\n",
      "\u001b[33mCritic\u001b[0m (to Meta Reviewer):\n",
      "\n",
      "Aggregrate feedback from all reviewers and give final suggestions on the writing.\n",
      "Context: \n",
      "{'Reviewer': 'SEO Expert', 'Review': 'Include specific keywords related to DeepLearning.AI, such as \"deep learning courses,\" \"artificial intelligence training,\" and \"neural network tutorials,\" to enhance search visibility. Incorporate internal links to relevant pages within the content, like course descriptions or testimonials, to improve site structure and enhance user experience. Craft a meta title and description that accurately reflect the content and include primary keywords to boost click-through rates in search results.'}\n",
      "{'Reviewer': 'SEO Expert', 'Review': 'Include specific keywords related to DeepLearning.AI, such as \"deep learning courses,\" \"artificial intelligence training,\" and \"neural network tutorials,\" to enhance search visibility. Incorporate internal links to relevant pages within the content, like course descriptions or testimonials, to improve site structure and enhance user experience. Craft a meta title and description that accurately reflect the content and include primary keywords to boost click-through rates in search results.'}\n",
      "{'reviewer': 'SEO Expert', 'review': 'Include specific keywords related to DeepLearning.AI, such as \"deep learning courses,\" \"artificial intelligence training,\" and \"neural network tutorials,\" to enhance search visibility. Incorporate internal links to relevant pages within the content, like course descriptions or testimonials, to improve site structure and enhance user experience. Craft a meta title and description that accurately reflect the content and include primary keywords to boost click-through rates in search results.'}\n"
     ]
    },
    {
     "name": "stdout",
     "output_type": "stream",
     "text": [
      "\n",
      "--------------------------------------------------------------------------------\n",
      "\u001b[33mMeta Reviewer\u001b[0m (to Critic):\n",
      "\n",
      "Aggregate Feedback:\n",
      "- All reviewers emphasize the importance of including specific keywords related to DeepLearning.AI to enhance search visibility.\n",
      "- They all recommend incorporating internal links to relevant pages within the content to improve site structure and enhance user experience.\n",
      "- Craft a meta title and description that accurately reflect the content and include primary keywords to boost click-through rates in search results.\n",
      "\n",
      "Final Suggestions:\n",
      "Based on the feedback provided by the reviewers, it is crucial to focus on implementing the suggested SEO strategies. Incorporating specific keywords related to DeepLearning.AI, internal links, and optimizing meta tags will not only improve the visibility of the content but also enhance the overall user experience. By following these recommendations, the content can potentially attract more traffic and engagement.\n",
      "\n",
      "--------------------------------------------------------------------------------\n",
      "\u001b[33mCritic\u001b[0m (to Writer):\n",
      "\n",
      "Aggregate Feedback:\n",
      "- All reviewers emphasize the importance of including specific keywords related to DeepLearning.AI to enhance search visibility.\n",
      "- They all recommend incorporating internal links to relevant pages within the content to improve site structure and enhance user experience.\n",
      "- Craft a meta title and description that accurately reflect the content and include primary keywords to boost click-through rates in search results.\n",
      "\n",
      "Final Suggestions:\n",
      "Based on the feedback provided by the reviewers, it is crucial to focus on implementing the suggested SEO strategies. Incorporating specific keywords related to DeepLearning.AI, internal links, and optimizing meta tags will not only improve the visibility of the content but also enhance the overall user experience. By following these recommendations, the content can potentially attract more traffic and engagement.\n",
      "\n",
      "--------------------------------------------------------------------------------\n",
      "\u001b[33mWriter\u001b[0m (to Critic):\n",
      "\n",
      "Title: \"Master DeepLearning.AI: Your Gateway to AI Expertise\"\n",
      "\n",
      "Meta Title: \"Unlock AI Insights with DeepLearning.AI | Courses by Andrew Ng\"\n",
      "Meta Description: \"Explore the top-rated DeepLearning.AI platform for neural networks and computer vision. Gain expertise and hands-on experience with industry-leading courses by Andrew Ng. Start your AI journey today.\"\n",
      "\n",
      "Blogpost:\n",
      "Immerse yourself in the world of DeepLearning.AI, the premier platform reshaping artificial intelligence. From neural networks to computer vision, DeepLearning.AI provides a comprehensive learning experience tailored to tech enthusiasts and professionals alike. Delve into hands-on projects and learn from top industry experts, including the renowned Andrew Ng. Elevate your skills and join the AI revolution today with DeepLearning.AI — where possibilities are limitless.\n",
      "\n",
      "--------------------------------------------------------------------------------\n"
     ]
    }
   ],
   "source": [
    "res = critic.initiate_chat(\n",
    "    recipient=writer,\n",
    "    message=task,\n",
    "    max_turns=2,\n",
    "    summary_method=\"last_msg\"\n",
    ")"
   ]
  },
  {
   "cell_type": "markdown",
   "id": "c5c833b0",
   "metadata": {},
   "source": [
    "## Get the summary"
   ]
  },
  {
   "cell_type": "code",
   "execution_count": 15,
   "id": "68ef82ed-f102-4964-b7be-60e2f258a39b",
   "metadata": {
    "height": 30
   },
   "outputs": [
    {
     "name": "stdout",
     "output_type": "stream",
     "text": [
      "Title: \"Master DeepLearning.AI: Your Gateway to AI Expertise\"\n",
      "\n",
      "Meta Title: \"Unlock AI Insights with DeepLearning.AI | Courses by Andrew Ng\"\n",
      "Meta Description: \"Explore the top-rated DeepLearning.AI platform for neural networks and computer vision. Gain expertise and hands-on experience with industry-leading courses by Andrew Ng. Start your AI journey today.\"\n",
      "\n",
      "Blogpost:\n",
      "Immerse yourself in the world of DeepLearning.AI, the premier platform reshaping artificial intelligence. From neural networks to computer vision, DeepLearning.AI provides a comprehensive learning experience tailored to tech enthusiasts and professionals alike. Delve into hands-on projects and learn from top industry experts, including the renowned Andrew Ng. Elevate your skills and join the AI revolution today with DeepLearning.AI — where possibilities are limitless.\n"
     ]
    }
   ],
   "source": [
    "print(res.summary)"
   ]
  }
 ],
 "metadata": {
  "kernelspec": {
   "display_name": "Python 3 (ipykernel)",
   "language": "python",
   "name": "python3"
  },
  "language_info": {
   "codemirror_mode": {
    "name": "ipython",
    "version": 3
   },
   "file_extension": ".py",
   "mimetype": "text/x-python",
   "name": "python",
   "nbconvert_exporter": "python",
   "pygments_lexer": "ipython3",
   "version": "3.11.9"
  }
 },
 "nbformat": 4,
 "nbformat_minor": 5
}
